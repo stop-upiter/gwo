{
 "cells": [
  {
   "cell_type": "markdown",
   "metadata": {},
   "source": [
    "# Grey Wolf Optimizer algorithm\n",
    "\n",
    "done by Amina Rizoeva, bse 196, November 2022\n",
    "\n",
    "[see homework task here](https://eduhseru-my.sharepoint.com/:w:/g/personal/arodriges_edu_hse_ru/EY8IfeOsNqJPmSJa2m9ZM9wBTMiwEh0ft0lfEiI0qCOtVQ?e=4%3AsjdwcA&at=9)"
   ]
  },
  {
   "cell_type": "code",
   "execution_count": 3,
   "metadata": {},
   "outputs": [],
   "source": [
    "import numpy as np "
   ]
  },
  {
   "cell_type": "markdown",
   "metadata": {},
   "source": [
    "## Code without any defined functions"
   ]
  },
  {
   "cell_type": "code",
   "execution_count": 1,
   "metadata": {},
   "outputs": [],
   "source": [
    "def gwo(max_iter_count, n, initialize_population, init_a, initialize_random_coefs, calculate_fitness, sort_agents, update_position, end_criterion):\n",
    "    X = initialize_population(n)\n",
    "    alpha = None\n",
    "    beta = None\n",
    "    delta = None\n",
    "    a = init_a()\n",
    "    for i in range(0, max_iter_count):\n",
    "        if (end_critetion(alpha)):\n",
    "            return alpha\n",
    "        a, A, C = initialize_random_coefs(a)\n",
    "        X_f = []\n",
    "        for x in X:\n",
    "            X_f += [x, calculate_fitness(x)]\n",
    "            X_f = sort_agents(X_f) #from best to less\n",
    "            alpha = X_f[0].take_first() #the best search agent\n",
    "            beta = X_f[1].take_first() #second best search agent\n",
    "            delta = X_f[2].take_first() #third best search agent\n",
    "        for x in X:\n",
    "            x.update_position(alpha, beta, delta, A, C)\n",
    "    return alpha"
   ]
  },
  {
   "cell_type": "markdown",
   "metadata": {},
   "source": [
    "I decided we need a class for functions"
   ]
  },
  {
   "cell_type": "code",
   "execution_count": 4,
   "metadata": {},
   "outputs": [],
   "source": [
    "class Gwo_functions_meta():\n",
    "    def _init(self, dimentions):\n",
    "        self.dimentions = dimentions\n",
    "    \n",
    "    def init_search_agent():\n",
    "        return random_pos(dimentions, vec_from, vec_to)\n",
    "    \n",
    "    def initialize_population(n):\n",
    "        arr = []\n",
    "        for i in range(0, n):\n",
    "            arr+=[init_search_agent()]\n",
    "        return arr\n",
    "    \n",
    "    def init_a():\n",
    "        return random_vec(dimentions, 0, 2)\n",
    "\n",
    "    def initialize_random_coefs(a):\n",
    "        r_1 = random_vec(dimentions, 0, 1)\n",
    "        r_2 = random_vec(dimentions, 0, 1)\n",
    "        A = 2*a*r_1 - a\n",
    "        C = 2*r_2\n",
    "        a = random_vec(dimentions, a)\n",
    "        return a, A, C\n",
    "    \n",
    "    def calculate_fitness(agent):\n",
    "        return agent\n",
    "    \n",
    "    def sort_agents(arr):\n",
    "        return arr\n",
    "    \n",
    "    def update_position(alpha, beta, delta, A, C):\n",
    "        return None\n",
    "    \n",
    "    def end_criterion(alpha):\n",
    "        return True"
   ]
  }
 ],
 "metadata": {
  "kernelspec": {
   "display_name": "Python 3",
   "language": "python",
   "name": "python3"
  },
  "language_info": {
   "codemirror_mode": {
    "name": "ipython",
    "version": 3
   },
   "file_extension": ".py",
   "mimetype": "text/x-python",
   "name": "python",
   "nbconvert_exporter": "python",
   "pygments_lexer": "ipython3",
   "version": "3.8.3"
  }
 },
 "nbformat": 4,
 "nbformat_minor": 4
}
