{
 "cells": [
  {
   "cell_type": "markdown",
   "metadata": {},
   "source": [
    "# Grey Wolf Optimizer algorithm\n",
    "\n",
    "done by Amina Rizoeva, bse 196, November 2022\n",
    "\n",
    "[see homework task here](https://eduhseru-my.sharepoint.com/:w:/g/personal/arodriges_edu_hse_ru/EY8IfeOsNqJPmSJa2m9ZM9wBTMiwEh0ft0lfEiI0qCOtVQ?e=4%3AsjdwcA&at=9)"
   ]
  },
  {
   "cell_type": "code",
   "execution_count": 73,
   "metadata": {},
   "outputs": [],
   "source": [
    "import numpy as np \n",
    "from IPython.display import display, Latex\n",
    "import random as r"
   ]
  },
  {
   "cell_type": "markdown",
   "metadata": {},
   "source": [
    "## Code without any defined functions"
   ]
  },
  {
   "cell_type": "code",
   "execution_count": 34,
   "metadata": {},
   "outputs": [],
   "source": [
    "def gwo(max_iter_count, n, initialize_population, init_a, initialize_random_coefs, calculate_fitness, sort_agents, update_position, end_criterion):\n",
    "    X = initialize_population(n)\n",
    "    alpha = None\n",
    "    beta = None\n",
    "    delta = None\n",
    "    a = init_a()\n",
    "    for i in range(0, max_iter_count):\n",
    "        if (end_critetion(alpha)):\n",
    "            return alpha\n",
    "        a, A, C = initialize_random_coefs(a)\n",
    "        X_f = []\n",
    "        for x in X:\n",
    "            X_f += [x, calculate_fitness(x)]\n",
    "            X_f = sort_agents(X_f) #from best to less\n",
    "            alpha = X_f[0].take_first() #the best search agent\n",
    "            beta = X_f[1].take_first() #second best search agent\n",
    "            delta = X_f[2].take_first() #third best search agent\n",
    "        for x in X:\n",
    "            x.update_position(alpha, beta, delta, A, C)\n",
    "    return alpha"
   ]
  },
  {
   "cell_type": "code",
   "execution_count": 74,
   "metadata": {},
   "outputs": [],
   "source": [
    "def random_vec(dim, fro, to):\n",
    "    lst = []\n",
    "    for i in range(0, dim):\n",
    "        lst +=[r.randrange(fro, to)]\n",
    "    return np.vec(lst)"
   ]
  },
  {
   "cell_type": "markdown",
   "metadata": {},
   "source": [
    "I decided we need a class for functions"
   ]
  },
  {
   "cell_type": "code",
   "execution_count": 72,
   "metadata": {},
   "outputs": [],
   "source": [
    "class Gwo_functions_meta():\n",
    "    def __init__(self, dimentions, fro, to):\n",
    "        self.dim = dimentions\n",
    "        self.vec_fro = np.vec([fro for i in range(0, dimentions)])\n",
    "        self.vec_to = np.vec([to for i in range(0, dimentions)])\n",
    "        self.a = random_vec(self.dim, 0, 2)\n",
    "        \n",
    "        self.alpha = None\n",
    "        self.beta = None\n",
    "        self.delta = None\n",
    "    \n",
    "    def init_search_agent(self):\n",
    "        return random_pos(self.dim, self.vec_fro, self.vec_to)\n",
    "    \n",
    "    def init_population(self, n):\n",
    "        arr = []\n",
    "        for i in range(0, n):\n",
    "            arr+=[self.init_search_agent()]\n",
    "        return arr\n",
    "\n",
    "    def rnm_coefs(self):\n",
    "        r_1 = random_vec(self.dim, 0, 1)\n",
    "        r_2 = random_vec(self.dim, 0, 1)\n",
    "        self.A = 2*self.a*r_1 - self.a\n",
    "        self.C = 2*r_2\n",
    "        self.a = random_vec(self.dim, self.a)\n",
    "        return [self.a, self.A, self.C]\n",
    "    \n",
    "    def calculate_fitness(agent):\n",
    "        return agent\n",
    "    \n",
    "    def sort_agents(arr):\n",
    "        return arr\n",
    "    \n",
    "    def update_position(self, alpha, beta, delta):\n",
    "        return None\n",
    "    \n",
    "    def end_criterion(self, alpha):\n",
    "        return True"
   ]
  },
  {
   "cell_type": "markdown",
   "metadata": {},
   "source": [
    "Every function-heuristic consists of function, its formula, dimentions, min range value, max range value and min possible value of function"
   ]
  },
  {
   "cell_type": "code",
   "execution_count": 76,
   "metadata": {},
   "outputs": [],
   "source": [
    "class func:\n",
    "    def __init__(self, name, f, dimentions, start_range, end_range, f_min_value):\n",
    "        self.name = name\n",
    "        self.f = f\n",
    "        self.dim = dimentions\n",
    "        self.fro = start_range\n",
    "        self.to = end_range\n",
    "        self.min = f_min_value\n",
    "    def __repr__(self):\n",
    "        display(Latex(f\"Function: {self.name}\"))\n",
    "        return f\"Dimentions = {self.dim}, Range = [{self.fro}; {self.to}], f_min = {self.min}\"\n",
    "\n",
    "    def __str__(self):\n",
    "        return self.__repr__()"
   ]
  },
  {
   "cell_type": "markdown",
   "metadata": {},
   "source": [
    "## Benchmark functions\n",
    "### Unmodal benchmark functions"
   ]
  },
  {
   "cell_type": "markdown",
   "metadata": {},
   "source": [
    "$ f_0(x) = \\sum_{i=1}^n x_i^2 $"
   ]
  },
  {
   "cell_type": "code",
   "execution_count": 36,
   "metadata": {},
   "outputs": [],
   "source": [
    "def f0(serch_agent, dimentions):\n",
    "    res = 0\n",
    "    for i in range(0, dimentions):\n",
    "        res+= serch_agent[i]*serch_agent[i]\n",
    "    return res"
   ]
  },
  {
   "cell_type": "markdown",
   "metadata": {},
   "source": [
    "$ f_1(x) = \\sum_{i=1}^n |x_i| + \\prod_{i=1}^n |x_i| $"
   ]
  },
  {
   "cell_type": "code",
   "execution_count": 37,
   "metadata": {},
   "outputs": [],
   "source": [
    "def f1(serch_agent, dimentions):\n",
    "    summ = 0\n",
    "    mult = 1\n",
    "    for i in range(0, dimentions):\n",
    "        summ+= abs(serch_agent[i])\n",
    "        mult*= abs(serch_agent[i])\n",
    "    return summ + mult"
   ]
  },
  {
   "cell_type": "markdown",
   "metadata": {},
   "source": [
    "$ f_2(x) = \\sum_{i=1}^n (\\sum_{j=1}^i x_j)^2 $"
   ]
  },
  {
   "cell_type": "code",
   "execution_count": 67,
   "metadata": {},
   "outputs": [],
   "source": [
    "def f2(serch_agent, dimentions):\n",
    "    res = 0\n",
    "    for i in range(0, dimentions):\n",
    "        t = 0\n",
    "        for j in range(0, i+1):\n",
    "            t+=serch_agent[j]\n",
    "        res+=t*t\n",
    "    return res"
   ]
  },
  {
   "cell_type": "markdown",
   "metadata": {},
   "source": [
    "$f_3(x)=max_{i=1}^n|x_i|$"
   ]
  },
  {
   "cell_type": "code",
   "execution_count": null,
   "metadata": {},
   "outputs": [],
   "source": [
    "def f3(serch_agent, dimentions):\n",
    "    res = serch_agent[0]\n",
    "    for i in range(0, dimentions):\n",
    "        res = serch_agent[i]\n",
    "    return res"
   ]
  },
  {
   "cell_type": "markdown",
   "metadata": {},
   "source": [
    "#### Parameters for unmodal benchmark functions"
   ]
  },
  {
   "cell_type": "code",
   "execution_count": 77,
   "metadata": {},
   "outputs": [],
   "source": [
    "unmodal_benchmark_functions = [\n",
    "    func(\"$f_0(x)=\\sum_{i=1}^nx_i^2$\", f0, 30, -100, 100, 0),\n",
    "    func(\"$f_1(x)=\\sum_{i=1}^n|x_i|+\\prod_{i=1}^n|x_i|$\", f1, 30, -10, 10, 0),\n",
    "    func(\"$f_2(x)=\\sum_{i=1}^n(\\sum_{j=1}^ix_j)^2$\", f2, 30, -100, 100, 0),\n",
    "]"
   ]
  },
  {
   "cell_type": "code",
   "execution_count": 78,
   "metadata": {},
   "outputs": [
    {
     "data": {
      "text/latex": [
       "Function: $f_2(x)=\\sum_{i=1}^n(\\sum_{j=1}^ix_j)^2$"
      ],
      "text/plain": [
       "<IPython.core.display.Latex object>"
      ]
     },
     "metadata": {},
     "output_type": "display_data"
    },
    {
     "data": {
      "text/plain": [
       "Dimentions = 30, Range = [-100; 100], f_min = 0"
      ]
     },
     "execution_count": 78,
     "metadata": {},
     "output_type": "execute_result"
    }
   ],
   "source": [
    "unmodal_benchmark_functions[2]"
   ]
  },
  {
   "cell_type": "code",
   "execution_count": null,
   "metadata": {},
   "outputs": [],
   "source": []
  }
 ],
 "metadata": {
  "kernelspec": {
   "display_name": "Python 3",
   "language": "python",
   "name": "python3"
  },
  "language_info": {
   "codemirror_mode": {
    "name": "ipython",
    "version": 3
   },
   "file_extension": ".py",
   "mimetype": "text/x-python",
   "name": "python",
   "nbconvert_exporter": "python",
   "pygments_lexer": "ipython3",
   "version": "3.8.3"
  }
 },
 "nbformat": 4,
 "nbformat_minor": 4
}
